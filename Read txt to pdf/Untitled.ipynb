{
 "cells": [
  {
   "cell_type": "code",
   "execution_count": 1,
   "id": "bbd1469a",
   "metadata": {},
   "outputs": [],
   "source": [
    "import glob\n",
    "from pathlib import Path\n"
   ]
  },
  {
   "cell_type": "code",
   "execution_count": 3,
   "id": "e5e83508",
   "metadata": {},
   "outputs": [
    {
     "name": "stdout",
     "output_type": "stream",
     "text": [
      "\u001b[34mTextFiles\u001b[m\u001b[m/      Untitled.ipynb  main.py         \u001b[34mvenv\u001b[m\u001b[m/\r\n"
     ]
    }
   ],
   "source": [
    "ls"
   ]
  },
  {
   "cell_type": "code",
   "execution_count": 17,
   "id": "d9e638e1",
   "metadata": {},
   "outputs": [
    {
     "data": {
      "text/plain": [
       "['TextFiles/cats.txt',\n",
       " 'TextFiles/dogs.txt',\n",
       " 'TextFiles/foxes.txt',\n",
       " 'TextFiles/snakes.txt']"
      ]
     },
     "execution_count": 17,
     "metadata": {},
     "output_type": "execute_result"
    }
   ],
   "source": [
    "filepaths = glob.glob('TextFiles/*.txt')\n",
    "filepaths"
   ]
  },
  {
   "cell_type": "code",
   "execution_count": 21,
   "id": "7fc7c619",
   "metadata": {},
   "outputs": [],
   "source": [
    "filepath = 'TextFiles/cats.txt'"
   ]
  },
  {
   "cell_type": "code",
   "execution_count": 22,
   "id": "77e971f0",
   "metadata": {},
   "outputs": [
    {
     "data": {
      "text/plain": [
       "'cats'"
      ]
     },
     "execution_count": 22,
     "metadata": {},
     "output_type": "execute_result"
    }
   ],
   "source": [
    "filename = Path(filepath).stem\n",
    "filename"
   ]
  },
  {
   "cell_type": "code",
   "execution_count": 19,
   "id": "e347d974",
   "metadata": {},
   "outputs": [],
   "source": [
    "with open( filename, 'r') as f:\n",
    "    text = f.read()"
   ]
  },
  {
   "cell_type": "code",
   "execution_count": 20,
   "id": "b1e6ce70",
   "metadata": {},
   "outputs": [
    {
     "data": {
      "text/plain": [
       "'The cat (Felis catus) is a domestic species of small carnivorous mammal.[1][2] It is the only domesticated species in the family Felidae and is often referred to as the domestic cat to distinguish it from the wild members of the family.[4] A cat can either be a house cat, a farm cat, or a feral cat; the latter ranges freely and avoids human contact.[5] Domestic cats are valued by humans for companionship and their ability to kill rodents. About 60 cat breeds are recognized by various cat registries.'"
      ]
     },
     "execution_count": 20,
     "metadata": {},
     "output_type": "execute_result"
    }
   ],
   "source": [
    "text"
   ]
  },
  {
   "cell_type": "code",
   "execution_count": null,
   "id": "833c25ca",
   "metadata": {},
   "outputs": [],
   "source": []
  }
 ],
 "metadata": {
  "kernelspec": {
   "display_name": "Python 3 (ipykernel)",
   "language": "python",
   "name": "python3"
  },
  "language_info": {
   "codemirror_mode": {
    "name": "ipython",
    "version": 3
   },
   "file_extension": ".py",
   "mimetype": "text/x-python",
   "name": "python",
   "nbconvert_exporter": "python",
   "pygments_lexer": "ipython3",
   "version": "3.9.16"
  }
 },
 "nbformat": 4,
 "nbformat_minor": 5
}
