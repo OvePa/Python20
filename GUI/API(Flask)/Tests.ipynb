{
 "cells": [
  {
   "cell_type": "code",
   "execution_count": 1,
   "id": "97a4f848",
   "metadata": {},
   "outputs": [],
   "source": [
    "import pandas as pd"
   ]
  },
  {
   "cell_type": "code",
   "execution_count": 5,
   "id": "056a050b",
   "metadata": {},
   "outputs": [
    {
     "data": {
      "text/html": [
       "<div>\n",
       "<style scoped>\n",
       "    .dataframe tbody tr th:only-of-type {\n",
       "        vertical-align: middle;\n",
       "    }\n",
       "\n",
       "    .dataframe tbody tr th {\n",
       "        vertical-align: top;\n",
       "    }\n",
       "\n",
       "    .dataframe thead th {\n",
       "        text-align: right;\n",
       "    }\n",
       "</style>\n",
       "<table border=\"1\" class=\"dataframe\">\n",
       "  <thead>\n",
       "    <tr style=\"text-align: right;\">\n",
       "      <th></th>\n",
       "      <th>word</th>\n",
       "      <th>definition</th>\n",
       "    </tr>\n",
       "  </thead>\n",
       "  <tbody>\n",
       "    <tr>\n",
       "      <th>0</th>\n",
       "      <td>abandoned industrial site</td>\n",
       "      <td>Site that cannot be used for any purpose, bein...</td>\n",
       "    </tr>\n",
       "    <tr>\n",
       "      <th>1</th>\n",
       "      <td>abandoned vehicle</td>\n",
       "      <td>A vehicle that has been discarded in the envir...</td>\n",
       "    </tr>\n",
       "    <tr>\n",
       "      <th>2</th>\n",
       "      <td>abiotic factor</td>\n",
       "      <td>Physical, chemical and other non-living enviro...</td>\n",
       "    </tr>\n",
       "    <tr>\n",
       "      <th>3</th>\n",
       "      <td>access road</td>\n",
       "      <td>Any street or narrow stretch of paved surface ...</td>\n",
       "    </tr>\n",
       "    <tr>\n",
       "      <th>4</th>\n",
       "      <td>access to the sea</td>\n",
       "      <td>The ability to bring goods to and from a port ...</td>\n",
       "    </tr>\n",
       "  </tbody>\n",
       "</table>\n",
       "</div>"
      ],
      "text/plain": [
       "                        word  \\\n",
       "0  abandoned industrial site   \n",
       "1          abandoned vehicle   \n",
       "2             abiotic factor   \n",
       "3                access road   \n",
       "4          access to the sea   \n",
       "\n",
       "                                          definition  \n",
       "0  Site that cannot be used for any purpose, bein...  \n",
       "1  A vehicle that has been discarded in the envir...  \n",
       "2  Physical, chemical and other non-living enviro...  \n",
       "3  Any street or narrow stretch of paved surface ...  \n",
       "4  The ability to bring goods to and from a port ...  "
      ]
     },
     "execution_count": 5,
     "metadata": {},
     "output_type": "execute_result"
    }
   ],
   "source": [
    "df = pd.read_csv('dictionary.csv')\n",
    "df.head()"
   ]
  },
  {
   "cell_type": "code",
   "execution_count": 7,
   "id": "a17d70ba",
   "metadata": {},
   "outputs": [
    {
     "data": {
      "text/plain": [
       "0    abandoned industrial site\n",
       "1            abandoned vehicle\n",
       "2               abiotic factor\n",
       "3                  access road\n",
       "4            access to the sea\n",
       "Name: word, dtype: object"
      ]
     },
     "execution_count": 7,
     "metadata": {},
     "output_type": "execute_result"
    }
   ],
   "source": [
    "df['word'].head()"
   ]
  },
  {
   "cell_type": "code",
   "execution_count": 8,
   "id": "e6fe331c",
   "metadata": {},
   "outputs": [
    {
     "data": {
      "text/plain": [
       "0    Site that cannot be used for any purpose, bein...\n",
       "1    A vehicle that has been discarded in the envir...\n",
       "2    Physical, chemical and other non-living enviro...\n",
       "3    Any street or narrow stretch of paved surface ...\n",
       "4    The ability to bring goods to and from a port ...\n",
       "Name: definition, dtype: object"
      ]
     },
     "execution_count": 8,
     "metadata": {},
     "output_type": "execute_result"
    }
   ],
   "source": [
    "df['definition'].head()"
   ]
  },
  {
   "cell_type": "code",
   "execution_count": 16,
   "id": "132d86e9",
   "metadata": {},
   "outputs": [
    {
     "data": {
      "text/plain": [
       "'1. Any star, especially when seen as the centre of any single solar system.\\n2. The particular star at the centre of our solar system, from which the Earth gets light and heat.\\n'"
      ]
     },
     "execution_count": 16,
     "metadata": {},
     "output_type": "execute_result"
    }
   ],
   "source": [
    "df[df['word'] == 'sun']['definition'].squeeze()"
   ]
  },
  {
   "cell_type": "code",
   "execution_count": null,
   "id": "95c5e16d",
   "metadata": {},
   "outputs": [],
   "source": []
  }
 ],
 "metadata": {
  "kernelspec": {
   "display_name": "Python 3 (ipykernel)",
   "language": "python",
   "name": "python3"
  },
  "language_info": {
   "codemirror_mode": {
    "name": "ipython",
    "version": 3
   },
   "file_extension": ".py",
   "mimetype": "text/x-python",
   "name": "python",
   "nbconvert_exporter": "python",
   "pygments_lexer": "ipython3",
   "version": "3.9.16"
  }
 },
 "nbformat": 4,
 "nbformat_minor": 5
}
